{
 "cells": [
  {
   "cell_type": "code",
   "execution_count": 1,
   "metadata": {},
   "outputs": [],
   "source": [
    "# Perform tokenization (Whitespace, Punctuation-based, Treebank, Tweet, MWE) using NLTK library. \n",
    "# Use porter stemmer and snowball stemmer for stemming. Use any technique for lemmatization. "
   ]
  },
  {
   "cell_type": "code",
   "execution_count": 1,
   "metadata": {
    "colab": {
     "base_uri": "https://localhost:8080/"
    },
    "executionInfo": {
     "elapsed": 2379,
     "status": "ok",
     "timestamp": 1705472739903,
     "user": {
      "displayName": "Adwait Deshpande",
      "userId": "14863366921114492910"
     },
     "user_tz": -330
    },
    "id": "YU-7UP-OF256",
    "outputId": "95c6532d-e1be-45c7-d411-70071147c568"
   },
   "outputs": [
    {
     "name": "stderr",
     "output_type": "stream",
     "text": [
      "[nltk_data] Downloading package punkt to\n",
      "[nltk_data]     C:\\Users\\DELL\\AppData\\Roaming\\nltk_data...\n",
      "[nltk_data]   Package punkt is already up-to-date!\n",
      "[nltk_data] Downloading package wordnet to\n",
      "[nltk_data]     C:\\Users\\DELL\\AppData\\Roaming\\nltk_data...\n",
      "[nltk_data]   Package wordnet is already up-to-date!\n"
     ]
    },
    {
     "name": "stdout",
     "output_type": "stream",
     "text": [
      "\n",
      "**Whitespace Tokenization:**\n",
      "['NLTK', 'is', 'a', 'powerful', 'library', 'for', 'natural', 'language', 'processing', 'tasks', '.', 'It', \"'s\", '#', 'awesome', '!']\n",
      "\n",
      "**Punctuation-based Tokenization:**\n",
      "['NLTK', 'is', 'a', 'powerful', 'library', 'for', 'natural', 'language', 'processing', 'tasks', '.', 'It', \"'\", 's', '#', 'awesome', '!']\n",
      "\n",
      "**Treebank Tokenization:**\n",
      "['NLTK', 'is', 'a', 'powerful', 'library', 'for', 'natural', 'language', 'processing', 'tasks.', 'It', \"'s\", '#', 'awesome', '!']\n",
      "\n",
      "**Tweet Tokenization:**\n",
      "['NLTK', 'is', 'a', 'powerful', 'library', 'for', 'natural', 'language', 'processing', 'tasks', '.', \"It's\", '#awesome', '!']\n",
      "\n",
      "**Porter Stemming:**\n",
      "['nltk', 'is', 'a', 'power', 'librari', 'for', 'natur', 'languag', 'process', 'task', '.', 'it', \"'s\", '#', 'awesom', '!']\n",
      "\n",
      "**Snowball Stemming:**\n",
      "['nltk', 'is', 'a', 'power', 'librari', 'for', 'natur', 'languag', 'process', 'task', '.', 'it', \"'s\", '#', 'awesom', '!']\n",
      "\n",
      "**Lemmatization:**\n",
      "['NLTK', 'is', 'a', 'powerful', 'library', 'for', 'natural', 'language', 'processing', 'task', '.', 'It', \"'s\", '#', 'awesome', '!']\n"
     ]
    }
   ],
   "source": [
    "import nltk\n",
    "from nltk.tokenize import word_tokenize, wordpunct_tokenize, TreebankWordTokenizer, TweetTokenizer\n",
    "from nltk.stem import PorterStemmer, SnowballStemmer\n",
    "from nltk.stem import WordNetLemmatizer\n",
    "nltk.download('punkt')\n",
    "nltk.download('wordnet')\n",
    "\n",
    "# Sample text\n",
    "text = \"NLTK is a powerful library for natural language processing tasks. It's #awesome!\"\n",
    "\n",
    "# Tokenization\n",
    "print(\"\\n**Whitespace Tokenization:**\")\n",
    "tokens_ws = word_tokenize(text)\n",
    "print(tokens_ws)\n",
    "\n",
    "print(\"\\n**Punctuation-based Tokenization:**\")\n",
    "tokens_punct = wordpunct_tokenize(text)\n",
    "print(tokens_punct)\n",
    "\n",
    "print(\"\\n**Treebank Tokenization:**\")\n",
    "treebank_tokenizer = TreebankWordTokenizer()\n",
    "tokens_treebank = treebank_tokenizer.tokenize(text)\n",
    "print(tokens_treebank)\n",
    "\n",
    "print(\"\\n**Tweet Tokenization:**\")\n",
    "tweet_tokenizer = TweetTokenizer()\n",
    "tokens_tweet = tweet_tokenizer.tokenize(text)\n",
    "print(tokens_tweet)\n",
    "\n",
    "# Stemming\n",
    "print(\"\\n**Porter Stemming:**\")\n",
    "porter_stemmer = PorterStemmer()\n",
    "stems_porter = [porter_stemmer.stem(token) for token in tokens_ws]\n",
    "print(stems_porter)\n",
    "\n",
    "print(\"\\n**Snowball Stemming:**\")\n",
    "snowball_stemmer = SnowballStemmer(\"english\")  # Choose a language\n",
    "stems_snowball = [snowball_stemmer.stem(token) for token in tokens_ws]\n",
    "print(stems_snowball)\n",
    "\n",
    "# Lemmatization\n",
    "print(\"\\n**Lemmatization:**\")\n",
    "lemmatizer = WordNetLemmatizer()\n",
    "lemmas = [lemmatizer.lemmatize(token) for token in tokens_ws]\n",
    "print(lemmas)\n"
   ]
  },
  {
   "cell_type": "code",
   "execution_count": null,
   "metadata": {
    "id": "UNAAkE0yHAYw"
   },
   "outputs": [],
   "source": []
  }
 ],
 "metadata": {
  "colab": {
   "authorship_tag": "ABX9TyMW/gBO73+XdcagfBgyjVOr",
   "provenance": []
  },
  "kernelspec": {
   "display_name": "Python 3 (ipykernel)",
   "language": "python",
   "name": "python3"
  },
  "language_info": {
   "codemirror_mode": {
    "name": "ipython",
    "version": 3
   },
   "file_extension": ".py",
   "mimetype": "text/x-python",
   "name": "python",
   "nbconvert_exporter": "python",
   "pygments_lexer": "ipython3",
   "version": "3.11.7"
  }
 },
 "nbformat": 4,
 "nbformat_minor": 4
}
